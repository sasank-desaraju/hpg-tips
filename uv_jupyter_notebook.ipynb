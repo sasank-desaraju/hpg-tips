{
 "cells": [
  {
   "cell_type": "code",
   "execution_count": null,
   "id": "707f44d9",
   "metadata": {},
   "outputs": [],
   "source": [
    "print(\"Let's get started!\")"
   ]
  },
  {
   "cell_type": "code",
   "execution_count": null,
   "id": "2e40190a",
   "metadata": {},
   "outputs": [],
   "source": [
    "# Place this notebook in a new directory"
   ]
  },
  {
   "cell_type": "code",
   "execution_count": null,
   "id": "164ae6ad",
   "metadata": {},
   "outputs": [],
   "source": [
    "# Make sure `uv` is installed\n",
    "!curl -LsSf https://astral.sh/uv/install.sh | sh"
   ]
  },
  {
   "cell_type": "code",
   "execution_count": null,
   "id": "f42e6e95",
   "metadata": {},
   "outputs": [],
   "source": [
    "# Create a `uv` project in this directory`\n",
    "!uv init"
   ]
  },
  {
   "cell_type": "code",
   "execution_count": null,
   "id": "8e471070",
   "metadata": {},
   "outputs": [],
   "source": [
    "# Add ipykernel as a development dependency\n",
    "!uv add --dev ipykernel"
   ]
  },
  {
   "cell_type": "code",
   "execution_count": null,
   "id": "b3497270",
   "metadata": {},
   "outputs": [],
   "source": [
    "# Let's look at our pyproject.toml\n",
    "!cat pyproject.toml"
   ]
  },
  {
   "cell_type": "code",
   "execution_count": null,
   "id": "f5f784c0",
   "metadata": {},
   "outputs": [],
   "source": [
    "# Now, let's install a new package\n",
    "# Feel free to run the import cell below first to see that the package is not installed\n",
    "!uv add seaborn"
   ]
  },
  {
   "cell_type": "code",
   "execution_count": null,
   "id": "f38b182a",
   "metadata": {},
   "outputs": [],
   "source": [
    "import seaborn"
   ]
  },
  {
   "cell_type": "code",
   "execution_count": null,
   "id": "e753b068",
   "metadata": {},
   "outputs": [],
   "source": [
    "# Cool! Now, let's look at our pyproject.toml again\n",
    "!cat pyproject.toml"
   ]
  },
  {
   "cell_type": "code",
   "execution_count": null,
   "id": "f74e1b37",
   "metadata": {},
   "outputs": [],
   "source": [
    "# Let's add another package\n",
    "!uv add altair"
   ]
  },
  {
   "cell_type": "code",
   "execution_count": null,
   "id": "6b1843d5",
   "metadata": {},
   "outputs": [],
   "source": [
    "import altair as alt"
   ]
  },
  {
   "cell_type": "code",
   "execution_count": null,
   "id": "6d836190",
   "metadata": {},
   "outputs": [],
   "source": [
    "# We can see that this was also added to our pyproject.toml\n",
    "!cat pyproject.toml"
   ]
  }
 ],
 "metadata": {
  "kernelspec": {
   "display_name": "jupyter-uv",
   "language": "python",
   "name": "python3"
  },
  "language_info": {
   "codemirror_mode": {
    "name": "ipython",
    "version": 3
   },
   "file_extension": ".py",
   "mimetype": "text/x-python",
   "name": "python",
   "nbconvert_exporter": "python",
   "pygments_lexer": "ipython3",
   "version": "3.10.18"
  }
 },
 "nbformat": 4,
 "nbformat_minor": 5
}
