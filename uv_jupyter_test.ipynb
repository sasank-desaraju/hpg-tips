{
 "cells": [
  {
   "cell_type": "code",
   "execution_count": null,
   "id": "707f44d9",
   "metadata": {},
   "outputs": [
    {
     "name": "stdout",
     "output_type": "stream",
     "text": [
      "testing\n"
     ]
    }
   ],
   "source": [
    "print(\"Let's get started!\")"
   ]
  },
  {
   "cell_type": "code",
   "execution_count": null,
   "id": "2e40190a",
   "metadata": {},
   "outputs": [],
   "source": [
    "# Place this notebook in a new directory"
   ]
  },
  {
   "cell_type": "code",
   "execution_count": null,
   "id": "164ae6ad",
   "metadata": {},
   "outputs": [],
   "source": [
    "# Make sure `uv` is installed\n",
    "!curl -LsSf https://astral.sh/uv/install.sh | sh"
   ]
  },
  {
   "cell_type": "code",
   "execution_count": null,
   "id": "f42e6e95",
   "metadata": {},
   "outputs": [],
   "source": [
    "# Create a `uv` project in this directory`\n",
    "!uv init"
   ]
  },
  {
   "cell_type": "code",
   "execution_count": null,
   "id": "8e471070",
   "metadata": {},
   "outputs": [],
   "source": [
    "# Add ipykernel as a development dependency\n",
    "!uv add --dev ipykernel"
   ]
  },
  {
   "cell_type": "code",
   "execution_count": 10,
   "id": "b3497270",
   "metadata": {},
   "outputs": [
    {
     "name": "stdout",
     "output_type": "stream",
     "text": [
      "[project]\n",
      "name = \"jupyter-uv\"\n",
      "version = \"0.1.0\"\n",
      "description = \"Add your description here\"\n",
      "readme = \"README.md\"\n",
      "requires-python = \">=3.10\"\n",
      "dependencies = [\n",
      "    \"altair>=5.5.0\",\n",
      "    \"seaborn>=0.13.2\",\n",
      "]\n",
      "\n",
      "[dependency-groups]\n",
      "dev = [\n",
      "    \"ipykernel>=6.30.1\",\n",
      "]\n"
     ]
    }
   ],
   "source": [
    "# Let's look at our pyproject.toml\n",
    "!cat pyproject.toml"
   ]
  },
  {
   "cell_type": "code",
   "execution_count": null,
   "id": "f5f784c0",
   "metadata": {},
   "outputs": [],
   "source": [
    "# Now, let's install a new package\n",
    "# Feel free to run the import cell below first to see that the package is not installed\n",
    "#!uv add seaborn"
   ]
  },
  {
   "cell_type": "code",
   "execution_count": 8,
   "id": "f38b182a",
   "metadata": {},
   "outputs": [],
   "source": [
    "import seaborn"
   ]
  },
  {
   "cell_type": "code",
   "execution_count": null,
   "id": "e753b068",
   "metadata": {},
   "outputs": [],
   "source": [
    "# Cool! Now, let's look at our pyproject.toml again\n",
    "!cat pyproject.toml"
   ]
  },
  {
   "cell_type": "code",
   "execution_count": null,
   "id": "f74e1b37",
   "metadata": {},
   "outputs": [
    {
     "name": "stdout",
     "output_type": "stream",
     "text": [
      "\u001b[2K\u001b[2mResolved \u001b[1m61 packages\u001b[0m \u001b[2min 226ms\u001b[0m\u001b[0m                                        \u001b[0m\n",
      "\u001b[2K\u001b[37m⠙\u001b[0m \u001b[2mPreparing packages...\u001b[0m (0/9)                                                   \n",
      "\u001b[2K\u001b[1A\u001b[37m⠙\u001b[0m \u001b[2mPreparing packages...\u001b[0m (0/9)--------------\u001b[0m\u001b[0m     0 B/26.15 KiB           \u001b[1A\n",
      "\u001b[2K\u001b[1A\u001b[37m⠙\u001b[0m \u001b[2mPreparing packages...\u001b[0m (0/9)--------------\u001b[0m\u001b[0m     0 B/26.15 KiB           \u001b[1A\n",
      "\u001b[2mreferencing         \u001b[0m \u001b[32m\u001b[2m------------------------------\u001b[0m\u001b[0m     0 B/26.15 KiB\n",
      "\u001b[2K\u001b[2A\u001b[37m⠙\u001b[0m \u001b[2mPreparing packages...\u001b[0m (0/9)--------------\u001b[0m\u001b[0m     0 B/87.93 KiB           \u001b[2A\n",
      "\u001b[2mreferencing         \u001b[0m \u001b[32m\u001b[2m------------------------------\u001b[0m\u001b[0m     0 B/26.15 KiB\n",
      "\u001b[2K\u001b[2A\u001b[37m⠙\u001b[0m \u001b[2mPreparing packages...\u001b[0m (0/9)--------------\u001b[0m\u001b[0m     0 B/87.93 KiB           \u001b[2A\n",
      "\u001b[2mreferencing         \u001b[0m \u001b[32m\u001b[2m------------------------------\u001b[0m\u001b[0m     0 B/26.15 KiB\n",
      "\u001b[2K\u001b[2A\u001b[37m⠙\u001b[0m \u001b[2mPreparing packages...\u001b[0m (0/9)--------------\u001b[0m\u001b[0m     0 B/87.93 KiB           \u001b[2A\n",
      "\u001b[2mreferencing         \u001b[0m \u001b[32m\u001b[2m------------------------------\u001b[0m\u001b[0m     0 B/26.15 KiB\n",
      "\u001b[2mattrs               \u001b[0m \u001b[32m\u001b[2m------------------------------\u001b[0m\u001b[0m     0 B/62.32 KiB\n",
      "\u001b[2K\u001b[3A\u001b[37m⠙\u001b[0m \u001b[2mPreparing packages...\u001b[0m (0/9)--------------\u001b[0m\u001b[0m     0 B/87.93 KiB           \u001b[3A\n",
      "\u001b[2mreferencing         \u001b[0m \u001b[32m\u001b[2m------------------------------\u001b[0m\u001b[0m     0 B/26.15 KiB\n",
      "\u001b[2mattrs               \u001b[0m \u001b[32m\u001b[2m------------------------------\u001b[0m\u001b[0m     0 B/62.32 KiB\n",
      "\u001b[2K\u001b[3A\u001b[37m⠙\u001b[0m \u001b[2mPreparing packages...\u001b[0m (0/9)-------------------\u001b[0m\u001b[0m     0 B/87.93 KiB      \u001b[3A\n",
      "\u001b[2mreferencing         \u001b[0m \u001b[32m\u001b[2m------------------------------\u001b[0m\u001b[0m     0 B/26.15 KiB\n",
      "\u001b[2mattrs                    \u001b[0m \u001b[32m\u001b[2m------------------------------\u001b[0m\u001b[0m     0 B/62.32 KiB\n",
      "\u001b[2K\u001b[3A\u001b[37m⠙\u001b[0m \u001b[2mPreparing packages...\u001b[0m (0/9)-------------------\u001b[0m\u001b[0m     0 B/87.93 KiB      \u001b[3A\n",
      "\u001b[2mreferencing              \u001b[0m \u001b[32m\u001b[2m------------------------------\u001b[0m\u001b[0m     0 B/26.15 KiB\n",
      "\u001b[2mattrs                    \u001b[0m \u001b[32m\u001b[2m------------------------------\u001b[0m\u001b[0m     0 B/62.32 KiB\n",
      "\u001b[2K\u001b[3A\u001b[37m⠙\u001b[0m \u001b[2mPreparing packages...\u001b[0m (0/9)-------------------\u001b[0m\u001b[0m     0 B/87.93 KiB      \u001b[3A\n",
      "\u001b[2mjsonschema-specifications\u001b[0m \u001b[32m\u001b[2m------------------------------\u001b[0m\u001b[0m     0 B/18.00 KiB\n",
      "\u001b[2mreferencing              \u001b[0m \u001b[32m\u001b[2m------------------------------\u001b[0m\u001b[0m     0 B/26.15 KiB\n",
      "\u001b[2mattrs                    \u001b[0m \u001b[32m\u001b[2m------------------------------\u001b[0m\u001b[0m     0 B/62.32 KiB\n",
      "\u001b[2K\u001b[4A\u001b[37m⠙\u001b[0m \u001b[2mPreparing packages...\u001b[0m (0/9)-------------------\u001b[0m\u001b[0m     0 B/87.93 KiB      \u001b[4A\n",
      "\u001b[2mjsonschema-specifications\u001b[0m \u001b[32m\u001b[2m------------------------------\u001b[0m\u001b[0m     0 B/18.00 KiB\n",
      "\u001b[2mreferencing              \u001b[0m \u001b[32m------------------\u001b[2m------------\u001b[0m\u001b[0m 14.88 KiB/26.15 KiB\n",
      "\u001b[2mattrs                    \u001b[0m \u001b[32m\u001b[2m------------------------------\u001b[0m\u001b[0m     0 B/62.32 KiB\n",
      "\u001b[2K\u001b[4A\u001b[37m⠙\u001b[0m \u001b[2mPreparing packages...\u001b[0m (0/9)-------------------\u001b[0m\u001b[0m     0 B/87.93 KiB      \u001b[4A\n",
      "\u001b[2mjsonschema-specifications\u001b[0m \u001b[32m\u001b[2m------------------------------\u001b[0m\u001b[0m     0 B/18.00 KiB\n",
      "\u001b[2mreferencing              \u001b[0m \u001b[32m------------------\u001b[2m------------\u001b[0m\u001b[0m 14.88 KiB/26.15 KiB\n",
      "\u001b[2mattrs                    \u001b[0m \u001b[32m\u001b[2m------------------------------\u001b[0m\u001b[0m     0 B/62.32 KiB\n",
      "\u001b[2K\u001b[4A\u001b[37m⠙\u001b[0m \u001b[2mPreparing packages...\u001b[0m (0/9)-------------------\u001b[0m\u001b[0m 14.88 KiB/87.93 KiB    \u001b[4A\n",
      "\u001b[2mjsonschema-specifications\u001b[0m \u001b[32m\u001b[2m------------------------------\u001b[0m\u001b[0m     0 B/18.00 KiB\n",
      "\u001b[2mreferencing              \u001b[0m \u001b[32m------------------\u001b[2m------------\u001b[0m\u001b[0m 14.88 KiB/26.15 KiB\n",
      "\u001b[2mattrs                    \u001b[0m \u001b[32m--------\u001b[2m----------------------\u001b[0m\u001b[0m 14.88 KiB/62.32 KiB\n",
      "\u001b[2K\u001b[4A\u001b[37m⠙\u001b[0m \u001b[2mPreparing packages...\u001b[0m (0/9)-------------------\u001b[0m\u001b[0m 14.88 KiB/87.93 KiB    \u001b[4A\n",
      "\u001b[2mjsonschema-specifications\u001b[0m \u001b[32m-------------------------\u001b[2m-----\u001b[0m\u001b[0m 14.86 KiB/18.00 KiB\n",
      "\u001b[2mreferencing              \u001b[0m \u001b[32m------------------\u001b[2m------------\u001b[0m\u001b[0m 14.88 KiB/26.15 KiB\n",
      "\u001b[2mattrs                    \u001b[0m \u001b[32m--------\u001b[2m----------------------\u001b[0m\u001b[0m 14.88 KiB/62.32 KiB\n",
      "\u001b[2K\u001b[4A\u001b[37m⠙\u001b[0m \u001b[2mPreparing packages...\u001b[0m (0/9)-------------------\u001b[0m\u001b[0m 14.88 KiB/87.93 KiB    \u001b[4A\n",
      "\u001b[2mjsonschema-specifications\u001b[0m \u001b[32m-------------------------\u001b[2m-----\u001b[0m\u001b[0m 14.86 KiB/18.00 KiB\n",
      "\u001b[2mreferencing              \u001b[0m \u001b[32m------------------\u001b[2m------------\u001b[0m\u001b[0m 14.88 KiB/26.15 KiB\n",
      "\u001b[2mattrs                    \u001b[0m \u001b[32m--------\u001b[2m----------------------\u001b[0m\u001b[0m 14.88 KiB/62.32 KiB\n",
      "\u001b[2K\u001b[4A\u001b[37m⠙\u001b[0m \u001b[2mPreparing packages...\u001b[0m (0/9)-------------------\u001b[0m\u001b[0m 30.88 KiB/87.93 KiB    \u001b[4A\n",
      "\u001b[2mjsonschema-specifications\u001b[0m \u001b[32m-------------------------\u001b[2m-----\u001b[0m\u001b[0m 14.86 KiB/18.00 KiB\n",
      "\u001b[2mreferencing              \u001b[0m \u001b[32m------------------\u001b[2m------------\u001b[0m\u001b[0m 14.88 KiB/26.15 KiB\n",
      "\u001b[2mattrs                    \u001b[0m \u001b[32m--------\u001b[2m----------------------\u001b[0m\u001b[0m 14.88 KiB/62.32 KiB\n",
      "\u001b[2K\u001b[4A\u001b[37m⠙\u001b[0m \u001b[2mPreparing packages...\u001b[0m (0/9)-\u001b[2m--------------\u001b[0m\u001b[0m 46.88 KiB/87.93 KiB    \u001b[4A\n",
      "\u001b[2mjsonschema-specifications\u001b[0m \u001b[32m-------------------------\u001b[2m-----\u001b[0m\u001b[0m 14.86 KiB/18.00 KiB\n",
      "\u001b[2mreferencing              \u001b[0m \u001b[32m------------------\u001b[2m------------\u001b[0m\u001b[0m 14.88 KiB/26.15 KiB\n",
      "\u001b[2mattrs                    \u001b[0m \u001b[32m---------------\u001b[2m---------------\u001b[0m\u001b[0m 30.88 KiB/62.32 KiB\n",
      "\u001b[2K\u001b[4A\u001b[37m⠙\u001b[0m \u001b[2mPreparing packages...\u001b[0m (0/9)-\u001b[2m--------------\u001b[0m\u001b[0m 46.88 KiB/87.93 KiB    \u001b[4A\n",
      "\u001b[2mjsonschema-specifications\u001b[0m \u001b[32m-------------------------\u001b[2m-----\u001b[0m\u001b[0m 14.86 KiB/18.00 KiB\n",
      "\u001b[2mreferencing              \u001b[0m \u001b[32m------------------\u001b[2m------------\u001b[0m\u001b[0m 14.88 KiB/26.15 KiB\n",
      "\u001b[2mattrs                    \u001b[0m \u001b[32m-----------------------\u001b[2m-------\u001b[0m\u001b[0m 46.88 KiB/62.32 KiB\n",
      "\u001b[2K\u001b[4A\u001b[37m⠙\u001b[0m \u001b[2mPreparing packages...\u001b[0m (0/9)-\u001b[2m--------------\u001b[0m\u001b[0m 46.88 KiB/87.93 KiB    \u001b[4A\n",
      "\u001b[2mjsonschema-specifications\u001b[0m \u001b[32m-------------------------\u001b[2m-----\u001b[0m\u001b[0m 14.86 KiB/18.00 KiB\n",
      "\u001b[2mmarkupsafe               \u001b[0m \u001b[32m------------------------------\u001b[2m\u001b[0m\u001b[0m 20.38 KiB/20.38 KiB\n",
      "\u001b[2mreferencing              \u001b[0m \u001b[32m------------------------------\u001b[2m\u001b[0m\u001b[0m 26.15 KiB/26.15 KiB\n",
      "\u001b[2mattrs                    \u001b[0m \u001b[32m------------------------------\u001b[2m\u001b[0m\u001b[0m 62.32 KiB/62.32 KiB\n",
      "\u001b[2mjsonschema               \u001b[0m \u001b[32m---------------------------\u001b[2m---\u001b[0m\u001b[0m 78.88 KiB/87.93 KiB\n",
      "\u001b[2mjinja2                   \u001b[0m \u001b[32m------------------\u001b[2m------------\u001b[0m\u001b[0m 78.88 KiB/131.74 KiB\n",
      "\u001b[2mrpds-py                  \u001b[0m \u001b[32m------------------------------\u001b[2m\u001b[0m\u001b[0m 375.06 KiB/375.06 KiB\n",
      "\u001b[2mnarwhals                 \u001b[0m \u001b[32m----\u001b[2m--------------------------\u001b[0m\u001b[0m 46.88 KiB/391.62 KiB\n",
      "\u001b[2K\u001b[9A\u001b[37m⠙\u001b[0m \u001b[2mPreparing packages...\u001b[0m (0/9)-------------------\u001b[0m\u001b[0m 30.91 KiB/714.06 KiB   \u001b[9A\n",
      "\u001b[2mjsonschema-specifications\u001b[0m \u001b[32m-------------------------\u001b[2m-----\u001b[0m\u001b[0m 14.86 KiB/18.00 KiB\n",
      "\u001b[2mreferencing              \u001b[0m \u001b[32m------------------------------\u001b[2m\u001b[0m\u001b[0m 26.15 KiB/26.15 KiB\n",
      "\u001b[2mattrs                    \u001b[0m \u001b[32m------------------------------\u001b[2m\u001b[0m\u001b[0m 62.32 KiB/62.32 KiB\n",
      "\u001b[2mjsonschema               \u001b[0m \u001b[32m---------------------------\u001b[2m---\u001b[0m\u001b[0m 78.88 KiB/87.93 KiB\n",
      "\u001b[2mjinja2                   \u001b[0m \u001b[32m------------------\u001b[2m------------\u001b[0m\u001b[0m 78.88 KiB/131.74 KiB\n",
      "\u001b[2mrpds-py                  \u001b[0m \u001b[32m------------------------------\u001b[2m\u001b[0m\u001b[0m 375.06 KiB/375.06 KiB\n",
      "\u001b[2mnarwhals                 \u001b[0m \u001b[32m-----\u001b[2m-------------------------\u001b[0m\u001b[0m 62.88 KiB/391.62 KiB\n",
      "\u001b[2K\u001b[8A\u001b[37m⠙\u001b[0m \u001b[2mPreparing packages...\u001b[0m (0/9)-------------------\u001b[0m\u001b[0m 30.91 KiB/714.06 KiB   \u001b[8A\n",
      "\u001b[2mjsonschema-specifications\u001b[0m \u001b[32m-------------------------\u001b[2m-----\u001b[0m\u001b[0m 14.86 KiB/18.00 KiB\n",
      "\u001b[2mreferencing              \u001b[0m \u001b[32m------------------------------\u001b[2m\u001b[0m\u001b[0m 26.15 KiB/26.15 KiB\n",
      "\u001b[2mattrs                    \u001b[0m \u001b[32m------------------------------\u001b[2m\u001b[0m\u001b[0m 62.32 KiB/62.32 KiB\n",
      "\u001b[2mjsonschema               \u001b[0m \u001b[32m------------------------------\u001b[2m\u001b[0m\u001b[0m 87.93 KiB/87.93 KiB\n",
      "\u001b[2mjinja2                   \u001b[0m \u001b[32m------------------\u001b[2m------------\u001b[0m\u001b[0m 78.88 KiB/131.74 KiB\n",
      "\u001b[2mnarwhals                 \u001b[0m \u001b[32m-----\u001b[2m-------------------------\u001b[0m\u001b[0m 62.88 KiB/391.62 KiB\n",
      "\u001b[2K\u001b[7A\u001b[37m⠙\u001b[0m \u001b[2mPreparing packages...\u001b[0m (0/9)-------------------\u001b[0m\u001b[0m 30.91 KiB/714.06 KiB   \u001b[7A\n",
      "\u001b[2mjsonschema-specifications\u001b[0m \u001b[32m-------------------------\u001b[2m-----\u001b[0m\u001b[0m 14.86 KiB/18.00 KiB\n",
      "\u001b[2mattrs                    \u001b[0m \u001b[32m------------------------------\u001b[2m\u001b[0m\u001b[0m 62.32 KiB/62.32 KiB\n",
      "\u001b[2mjsonschema               \u001b[0m \u001b[32m------------------------------\u001b[2m\u001b[0m\u001b[0m 87.93 KiB/87.93 KiB\n",
      "\u001b[2mjinja2                   \u001b[0m \u001b[32m----------------------\u001b[2m--------\u001b[0m\u001b[0m 94.88 KiB/131.74 KiB\n",
      "\u001b[2mnarwhals                 \u001b[0m \u001b[32m-------\u001b[2m-----------------------\u001b[0m\u001b[0m 78.88 KiB/391.62 KiB\n",
      "\u001b[2K\u001b[6A\u001b[37m⠙\u001b[0m \u001b[2mPreparing packages...\u001b[0m (0/9)-------------------\u001b[0m\u001b[0m 30.91 KiB/714.06 KiB   \u001b[6A\n",
      "\u001b[2mattrs                    \u001b[0m \u001b[32m------------------------------\u001b[2m\u001b[0m\u001b[0m 62.32 KiB/62.32 KiB\n",
      "\u001b[2mjsonschema               \u001b[0m \u001b[32m------------------------------\u001b[2m\u001b[0m\u001b[0m 87.93 KiB/87.93 KiB\n",
      "\u001b[2mjinja2                   \u001b[0m \u001b[32m----------------------\u001b[2m--------\u001b[0m\u001b[0m 94.88 KiB/131.74 KiB\n",
      "\u001b[2mnarwhals                 \u001b[0m \u001b[32m-------\u001b[2m-----------------------\u001b[0m\u001b[0m 78.88 KiB/391.62 KiB\n",
      "\u001b[2K\u001b[5A\u001b[37m⠙\u001b[0m \u001b[2mPreparing packages...\u001b[0m (0/9)-------------------\u001b[0m\u001b[0m 46.91 KiB/714.06 KiB   \u001b[5A\n",
      "\u001b[2mattrs                    \u001b[0m \u001b[32m------------------------------\u001b[2m\u001b[0m\u001b[0m 62.32 KiB/62.32 KiB\n",
      "\u001b[2mjsonschema               \u001b[0m \u001b[32m------------------------------\u001b[2m\u001b[0m\u001b[0m 87.93 KiB/87.93 KiB\n",
      "\u001b[2mjinja2                   \u001b[0m \u001b[32m----------------------\u001b[2m--------\u001b[0m\u001b[0m 94.88 KiB/131.74 KiB\n",
      "\u001b[2mnarwhals                 \u001b[0m \u001b[32m--------\u001b[2m----------------------\u001b[0m\u001b[0m 94.88 KiB/391.62 KiB\n",
      "\u001b[2K\u001b[5A\u001b[37m⠙\u001b[0m \u001b[2mPreparing packages...\u001b[0m (0/9)-------------------\u001b[0m\u001b[0m 46.91 KiB/714.06 KiB   \u001b[5A\n",
      "\u001b[2mattrs                    \u001b[0m \u001b[32m------------------------------\u001b[2m\u001b[0m\u001b[0m 62.32 KiB/62.32 KiB\n",
      "\u001b[2mjinja2                   \u001b[0m \u001b[32m-----------------------------\u001b[2m-\u001b[0m\u001b[0m 126.88 KiB/131.74 KiB\n",
      "\u001b[2mnarwhals                 \u001b[0m \u001b[32m--------\u001b[2m----------------------\u001b[0m\u001b[0m 94.88 KiB/391.62 KiB\n",
      "\u001b[2K\u001b[4A\u001b[37m⠙\u001b[0m \u001b[2mPreparing packages...\u001b[0m (0/9)-------------------\u001b[0m\u001b[0m 46.91 KiB/714.06 KiB   \u001b[4A\n",
      "\u001b[2mjinja2                   \u001b[0m \u001b[32m-----------------------------\u001b[2m-\u001b[0m\u001b[0m 126.88 KiB/131.74 KiB\n",
      "\u001b[2mnarwhals                 \u001b[0m \u001b[32m---------\u001b[2m---------------------\u001b[0m\u001b[0m 110.88 KiB/391.62 KiB\n",
      "\u001b[2K\u001b[3A\u001b[37m⠙\u001b[0m \u001b[2mPreparing packages...\u001b[0m (0/9)-------------------\u001b[0m\u001b[0m 46.91 KiB/714.06 KiB   \u001b[3A\n",
      "\u001b[2mnarwhals                 \u001b[0m \u001b[32m-------------\u001b[2m-----------------\u001b[0m\u001b[0m 158.88 KiB/391.62 KiB\n",
      "\u001b[2K\u001b[2A\u001b[37m⠹\u001b[0m \u001b[2mPreparing packages...\u001b[0m (7/9)-------------------\u001b[0m\u001b[0m 110.91 KiB/714.06 KiB  \u001b[2A\n",
      "\u001b[2mnarwhals                 \u001b[0m \u001b[32m-------------\u001b[2m-----------------\u001b[0m\u001b[0m 158.88 KiB/391.62 KiB\n",
      "\u001b[2K\u001b[2A\u001b[37m⠹\u001b[0m \u001b[2mPreparing packages...\u001b[0m (7/9)2m-----------------\u001b[0m\u001b[0m 302.91 KiB/714.06 KiB  \u001b[2A\n",
      "\u001b[2K\u001b[1A\u001b[37m⠹\u001b[0m \u001b[2mPreparing packages...\u001b[0m (7/9)----\u001b[2m-----------\u001b[0m\u001b[0m 238.88 KiB/391.62 KiB  \u001b[1A\n",
      "\u001b[2K\u001b[1A\u001b[37m⠹\u001b[0m \u001b[2mPreparing packages...\u001b[0m (7/9)------\u001b[2m---------\u001b[0m\u001b[0m 270.88 KiB/391.62 KiB  \u001b[1A\n",
      "\u001b[2K\u001b[2mPrepared \u001b[1m9 packages\u001b[0m \u001b[2min 327ms\u001b[0m\u001b[0m                                                 \u001b[1A\n",
      "\u001b[2K\u001b[2mInstalled \u001b[1m9 packages\u001b[0m \u001b[2min 303ms\u001b[0m\u001b[0m                               \u001b[0m\n",
      " \u001b[32m+\u001b[39m \u001b[1maltair\u001b[0m\u001b[2m==5.5.0\u001b[0m\n",
      " \u001b[32m+\u001b[39m \u001b[1mattrs\u001b[0m\u001b[2m==25.3.0\u001b[0m\n",
      " \u001b[32m+\u001b[39m \u001b[1mjinja2\u001b[0m\u001b[2m==3.1.6\u001b[0m\n",
      " \u001b[32m+\u001b[39m \u001b[1mjsonschema\u001b[0m\u001b[2m==4.25.1\u001b[0m\n",
      " \u001b[32m+\u001b[39m \u001b[1mjsonschema-specifications\u001b[0m\u001b[2m==2025.4.1\u001b[0m\n",
      " \u001b[32m+\u001b[39m \u001b[1mmarkupsafe\u001b[0m\u001b[2m==3.0.2\u001b[0m\n",
      " \u001b[32m+\u001b[39m \u001b[1mnarwhals\u001b[0m\u001b[2m==2.2.0\u001b[0m\n",
      " \u001b[32m+\u001b[39m \u001b[1mreferencing\u001b[0m\u001b[2m==0.36.2\u001b[0m\n",
      " \u001b[32m+\u001b[39m \u001b[1mrpds-py\u001b[0m\u001b[2m==0.27.1\u001b[0m\n"
     ]
    }
   ],
   "source": [
    "# Let's add another package\n",
    "!uv add altair"
   ]
  },
  {
   "cell_type": "code",
   "execution_count": null,
   "id": "6b1843d5",
   "metadata": {},
   "outputs": [],
   "source": [
    "import altair as alt"
   ]
  },
  {
   "cell_type": "code",
   "execution_count": null,
   "id": "6d836190",
   "metadata": {},
   "outputs": [
    {
     "name": "stdout",
     "output_type": "stream",
     "text": [
      "[project]\n",
      "name = \"jupyter-uv\"\n",
      "version = \"0.1.0\"\n",
      "description = \"Add your description here\"\n",
      "readme = \"README.md\"\n",
      "requires-python = \">=3.10\"\n",
      "dependencies = [\n",
      "    \"altair>=5.5.0\",\n",
      "    \"seaborn>=0.13.2\",\n",
      "]\n",
      "\n",
      "[dependency-groups]\n",
      "dev = [\n",
      "    \"ipykernel>=6.30.1\",\n",
      "]\n"
     ]
    }
   ],
   "source": [
    "# We can see that this was also added to our pyproject.toml\n",
    "!cat pyproject.toml"
   ]
  }
 ],
 "metadata": {
  "kernelspec": {
   "display_name": "jupyter-uv",
   "language": "python",
   "name": "python3"
  },
  "language_info": {
   "codemirror_mode": {
    "name": "ipython",
    "version": 3
   },
   "file_extension": ".py",
   "mimetype": "text/x-python",
   "name": "python",
   "nbconvert_exporter": "python",
   "pygments_lexer": "ipython3",
   "version": "3.10.18"
  }
 },
 "nbformat": 4,
 "nbformat_minor": 5
}
